{
 "cells": [
  {
   "cell_type": "code",
   "execution_count": 1,
   "metadata": {},
   "outputs": [
    {
     "name": "stdout",
     "output_type": "stream",
     "text": [
      "i: 0\n",
      "  a: 0.618\n",
      "  b: [2016, 2017]\n",
      "  c: 你好哦0\n",
      "   writer 0 DOWN!\n",
      "i: 1\n",
      "  a: 1.618\n",
      "  b: [2017, 2018]\n",
      "  c: 你好哦1\n",
      "   writer 1 DOWN!\n"
     ]
    }
   ],
   "source": [
    "#!/usr/bin/env python\n",
    "# -*- coding: utf-8 -*-\n",
    "import tensorflow as tf\n",
    "import numpy\n",
    "writer = tf.python_io.TFRecordWriter('test1111.tfrecord')\n",
    "for i in range(0, 2):\n",
    "    a = 0.618 + i\n",
    "    b = [2016 + i, 2017+i]\n",
    "    #c = numpy.array([[0, 1, 2],[3, 4, 5]]) + i\n",
    "    #c = c.astype(numpy.uint8)\n",
    "    c = \"你好哦\"+str(i)\n",
    "    #c_raw = c.tostring()#这里是把ｃ换了一种格式存储\n",
    "    c_raw = c\n",
    "    print 'i:',i\n",
    "    print '  a:',a\n",
    "    print '  b:',b\n",
    "    print '  c:',c\n",
    "    example = tf.train.Example(\n",
    "        features = tf.train.Features(\n",
    "            feature = {'a':tf.train.Feature(float_list = tf.train.FloatList(value=[a])),\n",
    "                       'b':tf.train.Feature(int64_list = tf.train.Int64List(value = b)),\n",
    "                       'c':tf.train.Feature(bytes_list = tf.train.BytesList(value = [c_raw]))}))\n",
    "    serialized = example.SerializeToString()\n",
    "    writer.write(serialized)\n",
    "    print '   writer',i,'DOWN!'\n",
    "writer.close()\n"
   ]
  },
  {
   "cell_type": "code",
   "execution_count": 2,
   "metadata": {},
   "outputs": [
    {
     "name": "stdout",
     "output_type": "stream",
     "text": [
      "Tensor(\"ParseSingleExample/ParseSingleExample:0\", shape=(), dtype=float32)\n",
      "Tensor(\"ParseSingleExample/ParseSingleExample:1\", shape=(2,), dtype=int64)\n",
      "WARNING:tensorflow:From /anaconda2/lib/python2.7/site-packages/tensorflow/python/util/tf_should_use.py:118: initialize_all_variables (from tensorflow.python.ops.variables) is deprecated and will be removed after 2017-03-02.\n",
      "Instructions for updating:\n",
      "Use `tf.global_variables_initializer` instead.\n",
      "first batch:\n",
      "('  a_val:', array([1.618, 1.618, 0.618], dtype=float32))\n",
      "('  b_val:', array([[2017, 2018],\n",
      "       [2017, 2018],\n",
      "       [2016, 2017]]))\n"
     ]
    }
   ],
   "source": [
    "#!/usr/bin/env python\n",
    "# -*- coding: utf-8 -*-\n",
    "# output file name string to a queue\n",
    "filename_queue = tf.train.string_input_producer(['test1111.tfrecord'], num_epochs=None)\n",
    "# create a reader from file queue\n",
    "reader = tf.TFRecordReader()\n",
    "_, serialized_example = reader.read(filename_queue)\n",
    "# get feature from serialized example\n",
    "\n",
    "\n",
    "features = tf.parse_single_example(serialized_example,\n",
    "        features={\n",
    "            'a': tf.FixedLenFeature([], tf.float32),\n",
    "            'b': tf.FixedLenFeature([2], tf.int64)\n",
    "            \n",
    "        }\n",
    "    )\n",
    "a_out = features['a']\n",
    "b_out = features['b']\n",
    "#c_out = features['c']\n",
    "#c_raw_out = features['c']\n",
    "#c_raw_out = tf.sparse_to_dense(features['c'])\n",
    "#c_out = tf.decode_raw(c_raw_out, tf.uint8)\n",
    "print( a_out)\n",
    "print (b_out)\n",
    "#print c_out\n",
    "#c_out = tf.reshape(c_out, [2, 3])\n",
    "a_batch, b_batch = tf.train.shuffle_batch([a_out, b_out], batch_size=3,\n",
    "                                capacity=200, min_after_dequeue=100, num_threads=2)\n",
    "sess = tf.Session()\n",
    "init = tf.initialize_all_variables()\n",
    "sess.run(init)\n",
    "\n",
    "tf.train.start_queue_runners(sess=sess)\n",
    "a_val, b_val = sess.run([a_batch, b_batch])\n",
    "# print(a_val, b_val, c_val)\n",
    "print('first batch:') \n",
    "print('  a_val:',a_val)\n",
    "print('  b_val:',b_val) "
   ]
  },
  {
   "cell_type": "code",
   "execution_count": 4,
   "metadata": {},
   "outputs": [
    {
     "name": "stdout",
     "output_type": "stream",
     "text": [
      "Python 2.7.15 :: Anaconda, Inc.\r\n"
     ]
    }
   ],
   "source": [
    "!python -V"
   ]
  },
  {
   "cell_type": "code",
   "execution_count": 5,
   "metadata": {},
   "outputs": [
    {
     "name": "stdout",
     "output_type": "stream",
     "text": [
      "/anaconda2/bin/python\n"
     ]
    }
   ],
   "source": [
    "\n",
    "import sys\n",
    "print(sys.executable)"
   ]
  },
  {
   "cell_type": "code",
   "execution_count": null,
   "metadata": {},
   "outputs": [],
   "source": []
  },
  {
   "cell_type": "code",
   "execution_count": null,
   "metadata": {},
   "outputs": [],
   "source": []
  }
 ],
 "metadata": {
  "kernelspec": {
   "display_name": "Python 2",
   "language": "python",
   "name": "python2"
  },
  "language_info": {
   "codemirror_mode": {
    "name": "ipython",
    "version": 2
   },
   "file_extension": ".py",
   "mimetype": "text/x-python",
   "name": "python",
   "nbconvert_exporter": "python",
   "pygments_lexer": "ipython2",
   "version": "2.7.15"
  }
 },
 "nbformat": 4,
 "nbformat_minor": 2
}
