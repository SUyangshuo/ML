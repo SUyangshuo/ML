{
 "cells": [
  {
   "cell_type": "code",
   "execution_count": 1,
   "metadata": {},
   "outputs": [
    {
     "name": "stdout",
     "output_type": "stream",
     "text": [
      "█\r"
     ]
    }
   ],
   "source": [
    "from wxpy import *\n",
    "bot = Bot(cache_path=True, console_qr=False, qr_path=None, qr_callback=None, login_callback=None, logout_callback=None)\n"
   ]
  },
  {
   "cell_type": "code",
   "execution_count": 2,
   "metadata": {},
   "outputs": [
    {
     "name": "stdout",
     "output_type": "stream",
     "text": [
      "9ca0b6e4\n"
     ]
    }
   ],
   "source": [
    "bot.enable_puid('wxpy_puid.pkl')\n",
    "my_friend = bot.friends().search('儿子')[0]\n",
    "print(my_friend.puid)  # 这个puid会改变 在每次\n",
    "\n",
    "# 消除手机端的新消息小红点提醒\n",
    "bot.auto_mark_as_read=True"
   ]
  },
  {
   "cell_type": "code",
   "execution_count": 3,
   "metadata": {},
   "outputs": [
    {
     "data": {
      "text/plain": [
       "↪ 儿子 : hello darling (Text)"
      ]
     },
     "execution_count": 3,
     "metadata": {},
     "output_type": "execute_result"
    }
   ],
   "source": [
    "# 发送文本\n",
    "my_friend.send('hello darling')\n",
    "# 发送图片\n",
    "# my_friend.send_image('my_picture.jpg')\n"
   ]
  },
  {
   "cell_type": "code",
   "execution_count": 13,
   "metadata": {},
   "outputs": [
    {
     "name": "stderr",
     "output_type": "stream",
     "text": [
      "LOG OUT!\n"
     ]
    }
   ],
   "source": [
    "# 打印来自其他好友群聊和公众号的消息\n",
    "@bot.register(chats=my_friend) # 只接受my——frinend的消息\n",
    "def print_other(msg):\n",
    "    print(msg)\n",
    "    \n",
    "# 回复my_friend的消息（优先匹配后注册的函数）\n",
    "@bot.register(my_friend)\n",
    "def reply_my_friend(msg):\n",
    "    return 'received:{} {{}}'.format(msg.txt,msg.type)"
   ]
  },
  {
   "cell_type": "code",
   "execution_count": null,
   "metadata": {},
   "outputs": [],
   "source": []
  },
  {
   "cell_type": "code",
   "execution_count": null,
   "metadata": {},
   "outputs": [],
   "source": []
  },
  {
   "cell_type": "code",
   "execution_count": 11,
   "metadata": {},
   "outputs": [],
   "source": [
    "xitigroup=bot.groups().search('西体')"
   ]
  },
  {
   "cell_type": "code",
   "execution_count": null,
   "metadata": {},
   "outputs": [],
   "source": []
  },
  {
   "cell_type": "code",
   "execution_count": 10,
   "metadata": {},
   "outputs": [
    {
     "data": {
      "text/plain": [
       "[]"
      ]
     },
     "execution_count": 10,
     "metadata": {},
     "output_type": "execute_result"
    }
   ],
   "source": [
    "xitigroup.search(city='杭州')"
   ]
  },
  {
   "cell_type": "code",
   "execution_count": null,
   "metadata": {},
   "outputs": [],
   "source": []
  },
  {
   "cell_type": "code",
   "execution_count": 7,
   "metadata": {},
   "outputs": [
    {
     "name": "stdout",
     "output_type": "stream",
     "text": [
      "[]\n"
     ]
    }
   ],
   "source": [
    "print(found)"
   ]
  },
  {
   "cell_type": "code",
   "execution_count": 8,
   "metadata": {},
   "outputs": [],
   "source": [
    "## 保持登陆/运行\n",
    "#embed()\n",
    "# 堵塞线程\n",
    "#bot.join()"
   ]
  },
  {
   "cell_type": "code",
   "execution_count": 9,
   "metadata": {},
   "outputs": [
    {
     "data": {
      "text/plain": [
       "[<Group: 【晨曦】西体37财经46>,\n",
       " <Group: 智能商业技术团队>,\n",
       " <Group: Working...>,\n",
       " <Group: 中科大软院|2017级>,\n",
       " <Group: 许都驾校>,\n",
       " <Group: 冒泡加炮轰打死那个土地主>,\n",
       " <Group: 天线宝宝>,\n",
       " <Group: ~_~😁>,\n",
       " <Group: 那个ssh满分的人>,\n",
       " <Group: 时代姐妹花>,\n",
       " <Group: 228寝室>,\n",
       " <Group: 啵啵宋是逗比>,\n",
       " <Group: ①②③④⑤⑥⑦⑧⑨>,\n",
       " <Group: javaEE>,\n",
       " <Group: 我们一家亲>,\n",
       " <Group: AnotherSunrise,代蔚然,🎾   🎾   🎾   🎾,Lahm,麦田,蒋興晟,>,\n",
       " <Group: 科大河南老乡群>,\n",
       " <Group: 佩奇家族>,\n",
       " <Group: 划水35号>,\n",
       " <Group: 17级实习招聘&amp;交流群>,\n",
       " <Group: 微店 产品技术ued&amp;生活>,\n",
       " <Group: 微店实习生群>,\n",
       " <Group: 互助-全网新年红包共享>]"
      ]
     },
     "execution_count": 9,
     "metadata": {},
     "output_type": "execute_result"
    }
   ],
   "source": [
    "bot.groups()"
   ]
  }
 ],
 "metadata": {
  "kernelspec": {
   "display_name": "Python 3",
   "language": "python",
   "name": "python3"
  },
  "language_info": {
   "codemirror_mode": {
    "name": "ipython",
    "version": 3
   },
   "file_extension": ".py",
   "mimetype": "text/x-python",
   "name": "python",
   "nbconvert_exporter": "python",
   "pygments_lexer": "ipython3",
   "version": "3.6.2"
  }
 },
 "nbformat": 4,
 "nbformat_minor": 2
}
