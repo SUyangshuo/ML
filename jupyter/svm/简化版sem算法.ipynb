{
 "cells": [
  {
   "cell_type": "markdown",
   "metadata": {},
   "source": [
    "### 简化版SEM算法"
   ]
  },
  {
   "cell_type": "code",
   "execution_count": null,
   "metadata": {},
   "outputs": [],
   "source": []
  },
  {
   "cell_type": "code",
   "execution_count": null,
   "metadata": {},
   "outputs": [],
   "source": [
    "# 参数：数据集、类别标签、常数C、容错率、循环最大次数\n",
    "def smoSimple(dataMatIn, classLabels, C, toler, maxIter):\n",
    "    dataMatrix = np.mat(dataMatIn)\n",
    "    labelMat = np.mat(classLabels).transpose()\n",
    "    b = 0\n",
    "    m,n = np.shape(dataMatrix)\n",
    "    alphas = np.mat(np.zeros((m, 1)))    # 初始化为0向量\n",
    "    iter = 0\n",
    "    # 当迭代次数小于最大迭代次数\n",
    "    while iter < maxIter:\n",
    "        alphaPairsChanged = 0    # 记录alpha是否已经优化\n",
    "        # 对数据集中的每个数据向量\n",
    "        for i in range(m):\n",
    "            fXi = float(np.multiply(alphas, labelMat).T * (dataMatrix * dataMatrix[i, :].T)) + b    # 预测类别\n",
    "            Ei = fXi - float(labelMat[i])    # 误差\n",
    "            # 如果alpha可以更改，进入优化过程\n",
    "            if((labelMat[i] * Ei < -toler) and (alphas[i] < C)) or ((labelMat[i] * Ei > toler) and (alphas[i] > 0)):\n",
    "                # 随机选择另外一个数据向量\n",
    "                j = selectJrand(i, m)\n",
    "                fXj = float(np.multiply(alphas, labelMat).T * (dataMatrix * dataMatrix[j, :].T)) + b\n",
    "                Ej = fXj - float(labelMat[j])    # 计算第二个alpha的误差\n",
    "                alphaIold = alphas[i].copy()\n",
    "                alphaJold = alphas[j].copy()\n",
    "                # 保证alpha在0与C之间\n",
    "                if labelMat[i] != labelMat[j]:\n",
    "                    L = max(0, alphas[j] - alphas[i])\n",
    "                    H = min(C, C + alphas[j] - alphas[i])\n",
    "                else:\n",
    "                    L = max(0, alphas[j] - alphas[i] - C)\n",
    "                    H = min(C, alphas[j] - alphas[i])\n",
    "                if L == H:\n",
    "                    print('L == H')\n",
    "                    continue\n",
    "                # alpha[j]的最优修改量\n",
    "                eta = 2.0 * dataMatrix[i, :] * dataMatrix[j, :].T - dataMatrix[i, :] * dataMatrix[i, :].T - dataMatrix[j, :] * dataMatrix[j, :].T\n",
    "                if eta >= 0:\n",
    "                    print('eta >= 0')\n",
    "                    continue\n",
    "                # 计算新的alpha[j]\n",
    "                alphas[j] -= labelMat[j] * (Ei - Ej) / eta\n",
    "                alphas[j] = clipAlpha(alphas[j], H, L)\n",
    "                # 检查alpha[j]是否有轻微改变\n",
    "                if abs(alphas[j] - alphaJold) < 0.00001:\n",
    "                    print('j not moving enough')\n",
    "                    continue\n",
    "                # 对i进行修改，修改量与j相同，但方向相反\n",
    "                alphas[i] += labelMat[j] * labelMat[i] * (alphaJold - alphas[j])\n",
    "                # 设置常数项b\n",
    "                b1 = b - Ei - labelMat[i] * (alphas[i] - alphaIold) * dataMatrix[i, :] * dataMatrix[i].T - labelMat[j] * (alphas[j] - alphaJold) * dataMatrix[i, :] * dataMatrix[j, :].T\n",
    "                b2 = b - Ej - labelMat[i] * (alphas[i] - alphaIold) * dataMatrix[i, :] * dataMatrix[j].T - labelMat[j] * (alphas[j] - alphaJold) * dataMatrix[j, :] * dataMatrix[j, :].T\n",
    "                if 0 < alphas[i] and C > alphas[i]:\n",
    "                    b = b1\n",
    "                elif 0 < alphas[j] and C > alphas[j]:\n",
    "                    b = b2\n",
    "                else:\n",
    "                    b = (b1 + b2)/2.0\n",
    "                alphaPairsChanged += 1    # 成功改变\n",
    "                print('iter: %d  i: %d, pairs changed %d' % (iter, i, alphaPairsChanged))\n",
    "        # 检查是否有更新alpha，若有，则将iter设为0继续\n",
    "        if alphaPairsChanged ==0:\n",
    "            iter += 1\n",
    "        else:\n",
    "            iter = 0\n",
    "        print('iteration number: %d' % iter)\n",
    "    return b, alphas"
   ]
  }
 ],
 "metadata": {
  "kernelspec": {
   "display_name": "Python 3",
   "language": "python",
   "name": "python3"
  },
  "language_info": {
   "codemirror_mode": {
    "name": "ipython",
    "version": 3
   },
   "file_extension": ".py",
   "mimetype": "text/x-python",
   "name": "python",
   "nbconvert_exporter": "python",
   "pygments_lexer": "ipython3",
   "version": "3.6.2"
  }
 },
 "nbformat": 4,
 "nbformat_minor": 2
}
