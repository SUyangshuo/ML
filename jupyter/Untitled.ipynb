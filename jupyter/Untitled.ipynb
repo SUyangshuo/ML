{
 "cells": [
  {
   "cell_type": "code",
   "execution_count": null,
   "metadata": {},
   "outputs": [],
   "source": [
    "# 生成tfrecord\n",
    "def image2tfrecord(data_list,label_list):\n",
    "    len2 = len(data_list)\n",
    "    print(\"len=\",len2)\n",
    "    writer = tf.python_io.TFRecordWriter(local_path+'%s.tfrecord' %'train')\n",
    "    for i in range(len2):\n",
    "        #读取图片并解码\n",
    "        # image = Image.open(image_list[i])\n",
    "        # image = image.resize((28,28))\n",
    "        data = data_list[i]\n",
    "        #print(data[0])\n",
    "        #len3 = len(data)\n",
    "       # for j in range(len3):\n",
    "        #转化为原始字节\n",
    "        data_bytes = data[0] # .tobytes()\n",
    "        #创建字典\n",
    "        features = {}\n",
    "        \n",
    "        tf_example = tf.train.Example(\n",
    "                features=tf.train.Features(\n",
    "                    feature={ 'user_id': tf.train.Feature(float_list=tf.train.FloatList(value=[data_bytes]))\n",
    "                     })) \n",
    "    \n",
    "\n",
    "        #序列化样本\n",
    "        tf_serialized = tf_example.SerializeToString()\n",
    "        #将序列化的样本写入rfrecord\n",
    "        writer.write(tf_serialized)\n",
    "    writer.close()\n",
    "    "
   ]
  },
  {
   "cell_type": "code",
   "execution_count": 6,
   "metadata": {},
   "outputs": [
    {
     "name": "stdout",
     "output_type": "stream",
     "text": [
      "i: 0\n",
      "  a: 0.618\n",
      "  b: [2016, 2017]\n",
      "   writer 0 DOWN!\n",
      "i: 1\n",
      "  a: 1.6179999999999999\n",
      "  b: [2017, 2018]\n",
      "   writer 1 DOWN!\n"
     ]
    }
   ],
   "source": [
    "#!/usr/bin/env python\n",
    "# -*- coding: utf-8 -*-\n",
    "import tensorflow as tf\n",
    "import numpy\n",
    "writer = tf.python_io.TFRecordWriter('test1111.tfrecord')\n",
    "for i in range(0, 2):\n",
    "    a = 0.618 + i\n",
    "    b = [2016 + i, 2017+i]\n",
    "    #c = numpy.array([[0, 1, 2],[3, 4, 5]]) + i\n",
    "    #c = c.astype(numpy.uint8)\n",
    "    #c = \"你好哦\"+str(i)\n",
    "    #c_raw = c.tostring()#这里是把ｃ换了一种格式存储\n",
    "    #c_raw = c\n",
    "    print('i:',i)\n",
    "    print('  a:',a)\n",
    "    print('  b:',b)\n",
    "    #print('  c:',c)\n",
    "    example = tf.train.Example(\n",
    "        features = tf.train.Features(\n",
    "            feature = {'a':tf.train.Feature(float_list = tf.train.FloatList(value=[a])),\n",
    "                       'b':tf.train.Feature(int64_list = tf.train.Int64List(value = b))\n",
    "                       #,'c':tf.train.Feature(bytes_list = tf.train.BytesList(value = [c_raw]))\n",
    "                      }))\n",
    "    serialized = example.SerializeToString()\n",
    "    writer.write(serialized)\n",
    "    print( '   writer',i,'DOWN!')\n",
    "writer.close()"
   ]
  },
  {
   "cell_type": "code",
   "execution_count": 11,
   "metadata": {},
   "outputs": [
    {
     "name": "stdout",
     "output_type": "stream",
     "text": [
      "---- Tensor(\"ParseSingleExample_1/ParseSingleExample:0\", shape=(), dtype=float32)\n",
      "---- Tensor(\"ParseSingleExample_1/ParseSingleExample:1\", shape=(2,), dtype=int64)\n",
      "first batch:\n",
      "  a_val: [1.618 0.618 1.618]\n",
      "  b_val: [[2017 2018]\n",
      " [2016 2017]\n",
      " [2017 2018]]\n"
     ]
    }
   ],
   "source": [
    "#!/usr/bin/env python\n",
    "# -*- coding: utf-8 -*-\n",
    "# output file name string to a queue\n",
    "filename_queue = tf.train.string_input_producer(['test1111.tfrecord'], num_epochs=None)\n",
    "# create a reader from file queue\n",
    "reader = tf.TFRecordReader()\n",
    "_, serialized_example = reader.read(filename_queue)\n",
    "# get feature from serialized example\n",
    "\n",
    "\n",
    "features = tf.parse_single_example(serialized_example,\n",
    "        features={\n",
    "            'a': tf.FixedLenFeature([], tf.float32),\n",
    "            'b': tf.FixedLenFeature([2], tf.int64)\n",
    "            \n",
    "        }\n",
    "    )\n",
    "a_out = features['a']\n",
    "b_out = features['b']\n",
    "#c_out = features['c']\n",
    "#c_raw_out = features['c']\n",
    "#c_raw_out = tf.sparse_to_dense(features['c'])\n",
    "#c_out = tf.decode_raw(c_raw_out, tf.uint8)\n",
    "print('----', a_out)\n",
    "print ('----',b_out)\n",
    "#print c_out\n",
    "#c_out = tf.reshape(c_out, [2, 3])\n",
    "a_batch, b_batch = tf.train.shuffle_batch([a_out, b_out], batch_size=3,\n",
    "                                capacity=200, min_after_dequeue=100, num_threads=2)\n",
    "sess = tf.Session()\n",
    "init = tf.initialize_all_variables()\n",
    "sess.run(init)\n",
    "\n",
    "tf.train.start_queue_runners(sess=sess)\n",
    "a_val, b_val = sess.run([a_batch, b_batch])\n",
    "# print(a_val, b_val, c_val)\n",
    "print('first batch:') \n",
    "print('  a_val:',a_val)\n",
    "print('  b_val:',b_val) \n",
    "\n",
    "\n",
    "\n",
    "\n"
   ]
  },
  {
   "cell_type": "code",
   "execution_count": null,
   "metadata": {},
   "outputs": [],
   "source": []
  },
  {
   "cell_type": "code",
   "execution_count": 10,
   "metadata": {},
   "outputs": [
    {
     "name": "stdout",
     "output_type": "stream",
     "text": [
      "Python 2.7.15 :: Anaconda, Inc.\r\n"
     ]
    }
   ],
   "source": [
    "!python -V"
   ]
  },
  {
   "cell_type": "code",
   "execution_count": null,
   "metadata": {},
   "outputs": [],
   "source": []
  },
  {
   "cell_type": "code",
   "execution_count": null,
   "metadata": {},
   "outputs": [],
   "source": []
  },
  {
   "cell_type": "code",
   "execution_count": null,
   "metadata": {},
   "outputs": [],
   "source": []
  },
  {
   "cell_type": "code",
   "execution_count": 5,
   "metadata": {},
   "outputs": [
    {
     "ename": "NameError",
     "evalue": "name 'sys' is not defined",
     "output_type": "error",
     "traceback": [
      "\u001b[0;31m---------------------------------------------------------------------------\u001b[0m",
      "\u001b[0;31mNameError\u001b[0m                                 Traceback (most recent call last)",
      "\u001b[0;32m<ipython-input-5-bb1b1f1d58b2>\u001b[0m in \u001b[0;36m<module>\u001b[0;34m\u001b[0m\n\u001b[0;32m----> 1\u001b[0;31m \u001b[0msys\u001b[0m\u001b[0;34m.\u001b[0m\u001b[0mgetdefaultencoding\u001b[0m\u001b[0;34m(\u001b[0m\u001b[0;34m)\u001b[0m\u001b[0;34m\u001b[0m\u001b[0m\n\u001b[0m",
      "\u001b[0;31mNameError\u001b[0m: name 'sys' is not defined"
     ]
    }
   ],
   "source": [
    "sys.getdefaultencoding()"
   ]
  },
  {
   "cell_type": "code",
   "execution_count": null,
   "metadata": {},
   "outputs": [],
   "source": []
  },
  {
   "cell_type": "code",
   "execution_count": null,
   "metadata": {},
   "outputs": [],
   "source": []
  },
  {
   "cell_type": "code",
   "execution_count": null,
   "metadata": {},
   "outputs": [],
   "source": []
  },
  {
   "cell_type": "code",
   "execution_count": null,
   "metadata": {},
   "outputs": [],
   "source": []
  },
  {
   "cell_type": "code",
   "execution_count": null,
   "metadata": {},
   "outputs": [],
   "source": [
    "#!/usr/bin/env python\n",
    "# -*- coding: utf-8 -*-\n",
    "# output file name string to a queue\n",
    "filename_queue = tf.train.string_input_producer(['test1111.tfrecord'], num_epochs=None)\n",
    "# create a reader from file queue\n",
    "reader = tf.TFRecordReader()\n",
    "_, serialized_example = reader.read(filename_queue)\n",
    "# get feature from serialized example\n",
    "\n",
    "\n",
    "features = tf.parse_single_example(serialized_example,\n",
    "        features={\n",
    "            'a': tf.FixedLenFeature([], tf.float32),\n",
    "            'b': tf.FixedLenFeature([2], tf.int64),\n",
    "            'c': tf.FixedLenFeature([],tf.string)\n",
    "        }\n",
    "    )\n",
    "a_out = features['a']\n",
    "b_out = features['b']\n",
    "c_out = features['c']\n",
    "#c_raw_out = features['c']\n",
    "#c_raw_out = tf.sparse_to_dense(features['c'])\n",
    "#c_out = tf.decode_raw(c_raw_out, tf.uint8)\n",
    "print a_out\n",
    "print b_out\n",
    "print c_out\n",
    "#c_out = tf.reshape(c_out, [2, 3])\n",
    "a_batch, b_batch, c_batch = tf.train.shuffle_batch([a_out, b_out, c_out], batch_size=3,\n",
    "                                capacity=200, min_after_dequeue=100, num_threads=2)\n",
    "sess = tf.Session()\n",
    "init = tf.initialize_all_variables()\n",
    "sess.run(init)\n",
    "\n",
    "tf.train.start_queue_runners(sess=sess)\n",
    "a_val, b_val, c_val = sess.run([a_batch, b_batch, c_batch])\n",
    "# print(a_val, b_val, c_val)\n",
    "print 'first batch:'\n",
    "print '  a_val:',a_val\n",
    "print '  b_val:',b_val\n",
    "print '  c_val:',c_val[0].decode('utf-8')\n",
    "a_val, b_val, c_val = sess.run([a_batch, b_batch, c_batch])\n",
    "print 'second batch:'\n",
    "print '  a_val:',a_val\n",
    "print '  b_val:',b_val\n",
    "print '  c_val:',str(c_val).decode('utf-8')\n",
    "\n",
    "\n",
    "\n",
    "\n",
    "# output file name string to a queue\n",
    "filename_queue = tf.train.string_input_producer(['/data/nfs/guodapeng/ctr/wd/data/transformed/test/14.tfrecord'], num_epochs=None)\n",
    "# create a reader from file queue\n",
    "reader = tf.TFRecordReader()\n",
    "_, serialized_example = reader.read(filename_queue)\n",
    "# get feature from serialized example\n",
    "\n",
    "\n",
    "features = tf.parse_single_example(\n",
    "        serialized_example,\n",
    "        features={\n",
    "            \"label\": tf.FixedLenFeature([], tf.float32),\n",
    "            \"feature\": tf.FixedLenFeature([38], tf.string),\n",
    "            \"times\": tf.FixedLenFeature([], tf.float32)\n",
    "        })\n",
    "\n",
    "label = features[\"label\"]\n",
    "feature = features[\"feature\"]\n",
    "times = features[\"times\"]\n",
    "\n",
    "\n",
    "sess = tf.Session()\n",
    "init = tf.initialize_all_variables()\n",
    "sess.run(init)\n",
    "\n",
    "tf.train.start_queue_runners(sess=sess)\n",
    "a_val, b_val, c_val = sess.run([label, features, times])\n",
    "\n",
    "print 'first batch:'\n",
    "print '  a_val:',a_val\n",
    "print '  b_val:',b_val\n",
    "print '  c_val:',c_val[0].decode('utf-8')"
   ]
  }
 ],
 "metadata": {
  "kernelspec": {
   "display_name": "Python 3",
   "language": "python",
   "name": "python3"
  },
  "language_info": {
   "codemirror_mode": {
    "name": "ipython",
    "version": 3
   },
   "file_extension": ".py",
   "mimetype": "text/x-python",
   "name": "python",
   "nbconvert_exporter": "python",
   "pygments_lexer": "ipython3",
   "version": "3.6.2"
  }
 },
 "nbformat": 4,
 "nbformat_minor": 2
}
