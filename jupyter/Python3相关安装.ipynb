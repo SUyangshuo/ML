{
 "cells": [
  {
   "cell_type": "markdown",
   "metadata": {},
   "source": [
    "# linux下Python工作环境配置"
   ]
  },
  {
   "cell_type": "code",
   "execution_count": null,
   "metadata": {},
   "outputs": [],
   "source": [
    "# 查看环境\n",
    "conda info -e\n",
    "# conda environments:\n",
    "root                  *  /usr/local/anaconda2\n",
    "# 创建一个名为python36的环境，指定Python版本是3.6（不用管是3.6.x，conda会为我们自动寻找3.6.x中的最新版本）\n",
    "conda create --name python36 python=3.6\n",
    "\n",
    "# 激活Python环境\n",
    "activate python36 #for windows\n",
    "source activate python36 # for mac\n",
    "\n",
    "# 查看Python版本\n",
    "Python --version\n",
    "\n",
    "# 退出当前激活的环境\n",
    "deactivate python36 # for Windows\n",
    "source deactivate python36 # for Linux & Mac"
   ]
  },
  {
   "cell_type": "markdown",
   "metadata": {},
   "source": [
    "# conda的相关命令"
   ]
  },
  {
   "cell_type": "code",
   "execution_count": null,
   "metadata": {},
   "outputs": [],
   "source": [
    "# 安装scipy\n",
    "conda install scipy\n",
    "# conda会从从远程搜索scipy的相关信息和依赖项目，对于python 3.4，conda会同时安装numpy和mkl（运算加速的库）\n",
    "\n",
    "# 查看已经安装的packages\n",
    "conda list\n",
    "# 最新版的conda是从site-packages文件夹中搜索已经安装的包，不依赖于pip，因此可以显示出通过各种方式安装的包\n",
    "\n",
    "# 查看当前环境下已安装的包\n",
    "conda list\n",
    "\n",
    "# 查看某个指定环境的已安装包\n",
    "conda list -n python36\n",
    "\n",
    "# 查找package信息\n",
    "conda search numpy\n",
    "\n",
    "# 安装package\n",
    "conda install -n python36 numpy\n",
    "# 如果不用-n指定环境名称，则被安装在当前活跃环境\n",
    "# 也可以通过-c指定通过某个channel安装\n",
    "\n",
    "# 更新package\n",
    "conda update -n python36 numpy\n",
    "\n",
    "# 删除package\n",
    "conda remove -n python36 numpy\n",
    "\n",
    "# 更新conda，保持conda最新\n",
    "conda update conda\n",
    "\n",
    "# 更新anaconda\n",
    "conda update anaconda\n",
    "\n",
    "# 更新python\n",
    "conda update python\n",
    "# 假设当前环境是python 3.4, conda会将python升级为3.4.x系列的当前最新版本\n"
   ]
  },
  {
   "cell_type": "markdown",
   "metadata": {},
   "source": [
    "# jupyter加载Python2和Python3"
   ]
  },
  {
   "cell_type": "code",
   "execution_count": null,
   "metadata": {},
   "outputs": [],
   "source": [
    "# 查看当前的jupyter的内核\n",
    "jupyter-kernelspec list \n",
    "\n",
    "# 首先确认Python36已经安装\n",
    "# 然后查看Python36对应的pip3是否存在\n",
    "python -m pip --version\n",
    "# 如果没有发现这个模块\n",
    "apt-get udpate\n",
    "apt-get install python3-pip\n",
    "\n",
    "# 安装Python3内核\n",
    "python3 -m pip install ipykernel\n",
    "python3 -m ipykernel install --user\n"
   ]
  }
 ],
 "metadata": {
  "kernelspec": {
   "display_name": "Python 3",
   "language": "python",
   "name": "python3"
  },
  "language_info": {
   "codemirror_mode": {
    "name": "ipython",
    "version": 3
   },
   "file_extension": ".py",
   "mimetype": "text/x-python",
   "name": "python",
   "nbconvert_exporter": "python",
   "pygments_lexer": "ipython3",
   "version": "3.6.2"
  }
 },
 "nbformat": 4,
 "nbformat_minor": 2
}
