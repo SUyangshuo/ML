{
 "cells": [
  {
   "cell_type": "markdown",
   "metadata": {},
   "source": [
    "#### 1：cifar_10 无法导入cifar10模块\n",
    "先使用sys模块查看所有的系统路径，如果没有cifar10路径，在文件中加入系统路径"
   ]
  },
  {
   "cell_type": "code",
   "execution_count": 3,
   "metadata": {},
   "outputs": [],
   "source": [
    "import sys as sys"
   ]
  },
  {
   "cell_type": "code",
   "execution_count": 5,
   "metadata": {},
   "outputs": [
    {
     "name": "stdout",
     "output_type": "stream",
     "text": [
      "['', '/anaconda2/envs/python36/lib/python36.zip', '/anaconda2/envs/python36/lib/python3.6', '/anaconda2/envs/python36/lib/python3.6/lib-dynload', '/Users/weidian/.local/lib/python3.6/site-packages', '/anaconda2/envs/python36/lib/python3.6/site-packages', '/anaconda2/envs/python36/lib/python3.6/site-packages/IPython/extensions', '/Users/weidian/.ipython']\n"
     ]
    }
   ],
   "source": [
    "print(sys.path)\n",
    "path ='/anaconda2/envs/python36/lib/python3.6/site-packages/tensorflow/models/tutorials/image/cifar10'\n",
    "sys.path.append(path)\n"
   ]
  },
  {
   "cell_type": "markdown",
   "metadata": {},
   "source": [
    "#### 2：查看tensorflow路径 "
   ]
  },
  {
   "cell_type": "code",
   "execution_count": null,
   "metadata": {},
   "outputs": [],
   "source": [
    "import tensorflow as tf\n",
    "print(tf.__version__)\n",
    "\n",
    "print(tf.__path__)"
   ]
  },
  {
   "cell_type": "code",
   "execution_count": null,
   "metadata": {},
   "outputs": [],
   "source": []
  }
 ],
 "metadata": {
  "kernelspec": {
   "display_name": "Python 3",
   "language": "python",
   "name": "python3"
  },
  "language_info": {
   "codemirror_mode": {
    "name": "ipython",
    "version": 3
   },
   "file_extension": ".py",
   "mimetype": "text/x-python",
   "name": "python",
   "nbconvert_exporter": "python",
   "pygments_lexer": "ipython3",
   "version": "3.6.2"
  }
 },
 "nbformat": 4,
 "nbformat_minor": 2
}
