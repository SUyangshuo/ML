{
 "cells": [
  {
   "cell_type": "code",
   "execution_count": 1,
   "metadata": {},
   "outputs": [],
   "source": [
    "import tensorflow as tf"
   ]
  },
  {
   "cell_type": "code",
   "execution_count": 4,
   "metadata": {},
   "outputs": [],
   "source": [
    "# 0阶张量\n",
    "mammal =tf.Variable(\"Elephant\", tf.string) ## variable 需要两个参数  输入数据 和输入类型\n",
    "ignition = tf.Variable(451,tf.int16)\n",
    "floating = tf.Variable(3.12159265359, tf.float64)\n",
    "its_complicated = tf.Variable(12.3 -4.85j,tf.complex64)\n",
    "# variable是特殊的张量，经过处理"
   ]
  },
  {
   "cell_type": "code",
   "execution_count": 3,
   "metadata": {},
   "outputs": [
    {
     "data": {
      "text/plain": [
       "[<tf.Variable 'Variable:0' shape=() dtype=string_ref>,\n",
       " <tf.Variable 'Variable_1:0' shape=() dtype=int32_ref>,\n",
       " <tf.Variable 'Variable_2:0' shape=() dtype=float32_ref>,\n",
       " <tf.Variable 'Variable_3:0' shape=() dtype=complex128_ref>]"
      ]
     },
     "execution_count": 3,
     "metadata": {},
     "output_type": "execute_result"
    }
   ],
   "source": [
    "[mammal, ignition, floating, its_complicated]"
   ]
  },
  {
   "cell_type": "code",
   "execution_count": null,
   "metadata": {},
   "outputs": [],
   "source": [
    "tf.rank()# 可以表示张量的阶数??????秩"
   ]
  },
  {
   "cell_type": "markdown",
   "metadata": {},
   "source": [
    "### 变量variable"
   ]
  },
  {
   "cell_type": "code",
   "execution_count": 3,
   "metadata": {},
   "outputs": [],
   "source": [
    "# 创建变量 ---变量是不会被轻易回收的\n",
    "\n",
    "# 均值为100 标准差0.35的正态分布\n",
    "W = tf.Variable(initial_value = tf.random_normal(shape=(1,4),mean=100, stddev=0.35), name='W')\n",
    "b = tf.Variable(tf.zeros([4]),name=\"b\")"
   ]
  },
  {
   "cell_type": "code",
   "execution_count": 4,
   "metadata": {},
   "outputs": [
    {
     "data": {
      "text/plain": [
       "[<tf.Variable 'W:0' shape=(1, 4) dtype=float32_ref>,\n",
       " <tf.Variable 'b:0' shape=(4,) dtype=float32_ref>]"
      ]
     },
     "execution_count": 4,
     "metadata": {},
     "output_type": "execute_result"
    }
   ],
   "source": [
    "[W,b]"
   ]
  },
  {
   "cell_type": "code",
   "execution_count": 5,
   "metadata": {},
   "outputs": [
    {
     "data": {
      "text/plain": [
       "[array([[100.24543 ,  99.89038 , 100.322395, 100.39918 ]], dtype=float32),\n",
       " array([0., 0., 0., 0.], dtype=float32)]"
      ]
     },
     "execution_count": 5,
     "metadata": {},
     "output_type": "execute_result"
    }
   ],
   "source": [
    "#初始化变量\n",
    "# 创建会话\n",
    "sess = tf.Session()\n",
    "# 把w b 初始化为全局变量\n",
    "\n",
    "sess.run(tf.global_variables_initializer())\n",
    "# 执行操作 获取变量值\n",
    "sess.run([W,b])"
   ]
  },
  {
   "cell_type": "code",
   "execution_count": 9,
   "metadata": {},
   "outputs": [
    {
     "data": {
      "text/plain": [
       "array([3., 3., 3., 3.], dtype=float32)"
      ]
     },
     "execution_count": 9,
     "metadata": {},
     "output_type": "execute_result"
    }
   ],
   "source": [
    "# 执行更新操作b\n",
    "sess.run(tf.assign_add(b,[1,1,1,1]))  # 对b进行加操作"
   ]
  },
  {
   "cell_type": "code",
   "execution_count": 10,
   "metadata": {},
   "outputs": [
    {
     "data": {
      "text/plain": [
       "array([3., 3., 3., 3.], dtype=float32)"
      ]
     },
     "execution_count": 10,
     "metadata": {},
     "output_type": "execute_result"
    }
   ],
   "source": [
    "sess.run(b)"
   ]
  },
  {
   "cell_type": "markdown",
   "metadata": {},
   "source": [
    "### saver使用"
   ]
  },
  {
   "cell_type": "code",
   "execution_count": null,
   "metadata": {},
   "outputs": [],
   "source": [
    "v1 = tf.Variable(...,name='v1')\n",
    "v2 = tf.Variable(...,name='v2')\n",
    "\n",
    "#指定需要保存和恢复的变量\n",
    "saver = tf.train.Saver({'v1':v1,'v2':v2})  # 把v1和v2两个变量名保存在文件中\n",
    "saver = tf.train.Saver([v1,v2]) #和上一个不一样 保存的是上边两个操作的名称（name属性的名字）\n",
    "saver = tf.train.Saver({v.op.name:v for v in [v1,v2]})# 同上\n",
    "# 执行保存操作\n",
    "tf.train.saver.save(sess,'my-model',global_step=0)# 1:会话 2：文件名 3：指明当前的步数  ===》filename：'my-model-0'"
   ]
  },
  {
   "cell_type": "code",
   "execution_count": null,
   "metadata": {},
   "outputs": [],
   "source": [
    "# 创建saver\n",
    "saver = tf.train.Saver({'W':W,'b':b})\n",
    "# 存储变量到文件\n",
    "saver.saver(sess,'./summary/test.ckpt',global_step=0)"
   ]
  },
  {
   "cell_type": "code",
   "execution_count": null,
   "metadata": {},
   "outputs": [],
   "source": [
    "# 再次执行更新边变量的操作\n",
    "sess.run(tf.assign_add(b,[1,1,1,1]))  # 对b进行加操作\n",
    "\n",
    "# 获取变量b的最新值\n",
    "sess.run(b)"
   ]
  },
  {
   "cell_type": "code",
   "execution_count": null,
   "metadata": {},
   "outputs": [],
   "source": [
    "# 从文件中恢复变量b\n",
    "saver.restore(sess,'./summary/test.ckpt-0')\n",
    "# 查看变量b 是否恢复成功\n",
    "sess.run(b)"
   ]
  },
  {
   "cell_type": "code",
   "execution_count": null,
   "metadata": {},
   "outputs": [],
   "source": [
    "# 从文件中恢复数据流图的结构\n",
    "# tf.train.import_meta_graph"
   ]
  },
  {
   "cell_type": "markdown",
   "metadata": {},
   "source": [
    "### 操作\n",
    " 操作是一个节点，tf使用数据流图表示算法模型，数据流图由节点和有向边组成，每个节点对应一个操作，因此操作是模型的载体\n",
    " \n",
    " 数据流图有3种不同的节点\n",
    " 1：存储节点：有状态的变量操作，\n",
    " 2：计算节点：负责算法的逻辑表达或流程控制\n",
    " 3：数据节点：数据的占位符操作，用于描述图外输入数据的属性\n",
    " #### 操作的输入和输出是张量或操作（函数式变成）\n"
   ]
  },
  {
   "cell_type": "code",
   "execution_count": null,
   "metadata": {},
   "outputs": [],
   "source": [
    "# 常量操作----目前这两个变量其实没有获得这个值\n",
    "a = tf.constant(2)\n",
    "b = tf.constant(3)"
   ]
  },
  {
   "cell_type": "code",
   "execution_count": null,
   "metadata": {},
   "outputs": [],
   "source": [
    "# 只有在创建会话，并且执行会话的时候才会获得值\n",
    "with tf.Session() as sess:\n",
    "    print(\"a: %i\" % sess.run(a))\n",
    "    print(\"b: %i\" % sess.run(b))"
   ]
  },
  {
   "cell_type": "code",
   "execution_count": 2,
   "metadata": {},
   "outputs": [],
   "source": [
    "# 占位符操作\n",
    "x = tf.placeholder(tf.int16,shape=(),name=\"x\")\n",
    "y = tf.placeholder(tf.int16,shape=(),name=\"y\")"
   ]
  },
  {
   "cell_type": "code",
   "execution_count": 3,
   "metadata": {},
   "outputs": [],
   "source": [
    "# 定义计算操作\n",
    "add = tf.add(x, y)\n",
    "mul = tf.multiply(x, y)\n"
   ]
  },
  {
   "cell_type": "code",
   "execution_count": 5,
   "metadata": {},
   "outputs": [
    {
     "name": "stdout",
     "output_type": "stream",
     "text": [
      "------: 5 \n",
      "------: 6 \n"
     ]
    }
   ],
   "source": [
    "# 加载默认数据流图\n",
    "with tf.Session() as sess:\n",
    "    # 要先填充数据才能操作\n",
    "    print(\"------: %i \" % sess.run(add, feed_dict={x:2,y:3}))\n",
    "    print(\"------: %i \" % sess.run(mul, feed_dict={x:2,y:3}))"
   ]
  },
  {
   "cell_type": "markdown",
   "metadata": {},
   "source": [
    "### 会话 session\n",
    "会话提供了估算张量和执行操作的运行环境，他是发放计算任务的客户端，所有计算任务都由他连接的执行引擎完成\n",
    "tf.session(target=,graph=,config=..) target会话连接的执行引擎，会话加载的数据流图   会话的配置项"
   ]
  },
  {
   "cell_type": "code",
   "execution_count": 8,
   "metadata": {},
   "outputs": [
    {
     "name": "stdout",
     "output_type": "stream",
     "text": [
      "4.0\n"
     ]
    }
   ],
   "source": [
    "# 创建爱你数据流图 y=w*x+b  其中w和b为存储节点，x为数据节点\n",
    "x = tf.placeholder(tf.float32)\n",
    "W = tf.Variable(1.0)\n",
    "b = tf.Variable(1.0)\n",
    "y = W * x + b\n",
    "with tf.Session() as sess:\n",
    "    tf.global_variables_initializer().run() # 全局化数据  给wb赋值----执行操作\n",
    "    fetch = y.eval(feed_dict={x:3.0})  # 估算张量\n",
    "    print(fetch)"
   ]
  },
  {
   "cell_type": "code",
   "execution_count": null,
   "metadata": {},
   "outputs": [],
   "source": [
    "# operation.run 和tensor.eval方法也是会话执行的方法，这两个方法都会调用执行sess.run"
   ]
  },
  {
   "cell_type": "markdown",
   "metadata": {},
   "source": [
    "####  可以指定节点放置的设备"
   ]
  },
  {
   "cell_type": "code",
   "execution_count": null,
   "metadata": {},
   "outputs": [],
   "source": [
    "with tf.device(\"/cpu:0\"):\n",
    "    v = tf.Variable(--)"
   ]
  },
  {
   "cell_type": "markdown",
   "metadata": {},
   "source": [
    "### 优化器 optimizer"
   ]
  },
  {
   "cell_type": "code",
   "execution_count": null,
   "metadata": {},
   "outputs": [],
   "source": []
  },
  {
   "cell_type": "code",
   "execution_count": null,
   "metadata": {},
   "outputs": [],
   "source": []
  }
 ],
 "metadata": {
  "kernelspec": {
   "display_name": "Python 3",
   "language": "python",
   "name": "python3"
  },
  "language_info": {
   "codemirror_mode": {
    "name": "ipython",
    "version": 3
   },
   "file_extension": ".py",
   "mimetype": "text/x-python",
   "name": "python",
   "nbconvert_exporter": "python",
   "pygments_lexer": "ipython3",
   "version": "3.6.2"
  }
 },
 "nbformat": 4,
 "nbformat_minor": 2
}
