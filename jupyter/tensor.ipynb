{
 "cells": [
  {
   "cell_type": "code",
   "execution_count": 2,
   "metadata": {},
   "outputs": [],
   "source": [
    "import tensorflow as tf"
   ]
  },
  {
   "cell_type": "code",
   "execution_count": null,
   "metadata": {},
   "outputs": [],
   "source": []
  },
  {
   "cell_type": "code",
   "execution_count": 4,
   "metadata": {},
   "outputs": [],
   "source": [
    "# 0阶张量\n",
    "mammal =tf.Variable(\"Elephant\", tf.string) ## variable 需要两个参数  输入数据 和输入类型\n",
    "ignition = tf.Variable(451,tf.int16)\n",
    "floating = tf.Variable(3.12159265359, tf.float64)\n",
    "its_complicated = tf.Variable(12.3 -4.85j,tf.complex64)\n",
    "# variable是特殊的张量，经过处理"
   ]
  },
  {
   "cell_type": "code",
   "execution_count": 3,
   "metadata": {},
   "outputs": [
    {
     "data": {
      "text/plain": [
       "[<tf.Variable 'Variable:0' shape=() dtype=string_ref>,\n",
       " <tf.Variable 'Variable_1:0' shape=() dtype=int32_ref>,\n",
       " <tf.Variable 'Variable_2:0' shape=() dtype=float32_ref>,\n",
       " <tf.Variable 'Variable_3:0' shape=() dtype=complex128_ref>]"
      ]
     },
     "execution_count": 3,
     "metadata": {},
     "output_type": "execute_result"
    }
   ],
   "source": [
    "[mammal, ignition, floating, its_complicated]"
   ]
  },
  {
   "cell_type": "code",
   "execution_count": null,
   "metadata": {},
   "outputs": [],
   "source": [
    "tf.rank()# 可以表示张量的阶数??????秩"
   ]
  },
  {
   "cell_type": "markdown",
   "metadata": {},
   "source": [
    "### 变量variable"
   ]
  },
  {
   "cell_type": "code",
   "execution_count": 3,
   "metadata": {},
   "outputs": [],
   "source": [
    "# 创建变量 ---变量是不会被轻易回收的\n",
    "\n",
    "# 均值为100 标准差0.35的正态分布\n",
    "W = tf.Variable(initial_value = tf.random_normal(shape=(1,4),mean=100, stddev=0.35), name='W')\n",
    "b = tf.Variable(tf.zeros([4]),name=\"b\")"
   ]
  },
  {
   "cell_type": "code",
   "execution_count": 4,
   "metadata": {},
   "outputs": [
    {
     "data": {
      "text/plain": [
       "[<tf.Variable 'W:0' shape=(1, 4) dtype=float32_ref>,\n",
       " <tf.Variable 'b:0' shape=(4,) dtype=float32_ref>]"
      ]
     },
     "execution_count": 4,
     "metadata": {},
     "output_type": "execute_result"
    }
   ],
   "source": [
    "[W,b]"
   ]
  },
  {
   "cell_type": "code",
   "execution_count": 5,
   "metadata": {},
   "outputs": [
    {
     "data": {
      "text/plain": [
       "[array([[100.24543 ,  99.89038 , 100.322395, 100.39918 ]], dtype=float32),\n",
       " array([0., 0., 0., 0.], dtype=float32)]"
      ]
     },
     "execution_count": 5,
     "metadata": {},
     "output_type": "execute_result"
    }
   ],
   "source": [
    "#初始化变量\n",
    "# 创建会话\n",
    "sess = tf.Session()\n",
    "# 把w b 初始化为全局变量\n",
    "\n",
    "sess.run(tf.global_variables_initializer())\n",
    "# 执行操作 获取变量值\n",
    "sess.run([W,b])"
   ]
  },
  {
   "cell_type": "code",
   "execution_count": 9,
   "metadata": {},
   "outputs": [
    {
     "data": {
      "text/plain": [
       "array([3., 3., 3., 3.], dtype=float32)"
      ]
     },
     "execution_count": 9,
     "metadata": {},
     "output_type": "execute_result"
    }
   ],
   "source": [
    "# 执行更新操作b\n",
    "sess.run(tf.assign_add(b,[1,1,1,1]))  # 对b进行加操作"
   ]
  },
  {
   "cell_type": "code",
   "execution_count": 10,
   "metadata": {},
   "outputs": [
    {
     "data": {
      "text/plain": [
       "array([3., 3., 3., 3.], dtype=float32)"
      ]
     },
     "execution_count": 10,
     "metadata": {},
     "output_type": "execute_result"
    }
   ],
   "source": [
    "sess.run(b)"
   ]
  },
  {
   "cell_type": "markdown",
   "metadata": {},
   "source": [
    "### saver使用"
   ]
  },
  {
   "cell_type": "code",
   "execution_count": null,
   "metadata": {},
   "outputs": [],
   "source": [
    "v1 = tf.Variable(...,name='v1')\n",
    "v2 = tf.Variable(...,name='v2')\n",
    "\n",
    "#指定需要保存和恢复的变量\n",
    "saver = tf.train.Saver({'v1':v1,'v2':v2})  # 把v1和v2两个变量名保存在文件中\n",
    "saver = tf.train.Saver([v1,v2]) #和上一个不一样 保存的是上边两个操作的名称（name属性的名字）\n",
    "saver = tf.train.Saver({v.op.name:v for v in [v1,v2]})# 同上\n",
    "# 执行保存操作\n",
    "tf.train.saver.save(sess,'my-model',global_step=0)# 1:会话 2：文件名 3：指明当前的步数  ===》filename：'my-model-0'"
   ]
  },
  {
   "cell_type": "code",
   "execution_count": null,
   "metadata": {},
   "outputs": [],
   "source": []
  },
  {
   "cell_type": "code",
   "execution_count": null,
   "metadata": {},
   "outputs": [],
   "source": []
  }
 ],
 "metadata": {
  "kernelspec": {
   "display_name": "Python 3",
   "language": "python",
   "name": "python3"
  },
  "language_info": {
   "codemirror_mode": {
    "name": "ipython",
    "version": 3
   },
   "file_extension": ".py",
   "mimetype": "text/x-python",
   "name": "python",
   "nbconvert_exporter": "python",
   "pygments_lexer": "ipython3",
   "version": "3.6.2"
  }
 },
 "nbformat": 4,
 "nbformat_minor": 2
}
