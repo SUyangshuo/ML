{
 "cells": [
  {
   "cell_type": "markdown",
   "metadata": {},
   "source": [
    "# Gitd的相关命令"
   ]
  },
  {
   "cell_type": "code",
   "execution_count": null,
   "metadata": {},
   "outputs": [],
   "source": [
    "# 第一步：建立git仓库\n",
    "\n",
    "# cd到你的本地项目根目录下，执行git命令，此命令会在当前目录下创建一个.git文件夹。\n",
    "git init\n",
    "\n",
    "# 项目文件添加到仓库中\n",
    "git add .\n",
    "\n",
    "# commit \n",
    "git commit -m \"注释语句\"\n",
    "\n",
    "# 本地仓库和github关联\n",
    "git remote add origin https://自己的仓库url地址\n",
    "\n",
    "#上传代码\n",
    "git push -u origin master\n",
    "\n"
   ]
  }
 ],
 "metadata": {
  "kernelspec": {
   "display_name": "Python 3",
   "language": "python",
   "name": "python3"
  },
  "language_info": {
   "codemirror_mode": {
    "name": "ipython",
    "version": 3
   },
   "file_extension": ".py",
   "mimetype": "text/x-python",
   "name": "python",
   "nbconvert_exporter": "python",
   "pygments_lexer": "ipython3",
   "version": "3.6.2"
  }
 },
 "nbformat": 4,
 "nbformat_minor": 2
}
