{
 "cells": [
  {
   "cell_type": "code",
   "execution_count": 1,
   "metadata": {},
   "outputs": [],
   "source": [
    "from numpy import *\n",
    "import random\n",
    "\n",
    "def sigmoid(inX):\n",
    "    return 1.0/(1+exp(-inX))\n",
    "\n",
    "\"\"\" 梯度上升法 \"\"\"\n",
    "def gradAscent(dataMatIn, classLabels):\n",
    "    \"\"\"\n",
    "    输入：1、dataMatIn——输入数据\n",
    "         2、classLabels——类别标签\n",
    "    输出：weights——回归系数\n",
    "    \"\"\"\n",
    "    dataMatrix = mat(dataMatIn)             # 转换为NumPy矩阵类型\n",
    "    labelMat = mat(classLabels).transpose() # 转换为NumPy矩阵类型并转置为列向量\n",
    "    m,n = shape(dataMatrix)                 # 输入数据的行、列数\n",
    "    alpha = 0.001                           # 初始化步进因子\n",
    "    maxCycles = 500                         # 初始化迭代次数\n",
    "    weights = ones((n,1))                   # 初始化回归系数，全1矩阵，n行1列\n",
    "    for k in range(maxCycles):\n",
    "        h = sigmoid(dataMatrix*weights)     # 计算对数几率，m行1列（括号内为矩阵乘）\n",
    "        error = (labelMat - h)              # 类别差，m行1列\n",
    "        weights = weights + alpha * dataMatrix.transpose()* error # 更新回归系数\n",
    "    return weights"
   ]
  },
  {
   "cell_type": "markdown",
   "metadata": {},
   "source": [
    "“梯度上升法”的不足在于每次更新回归系数时都要遍历整个数据集，计算复杂度高\n",
    "因此，产生了“随机梯度上升法”，即每次仅使用1个样本点数据来更新回归系数"
   ]
  },
  {
   "cell_type": "code",
   "execution_count": 2,
   "metadata": {},
   "outputs": [],
   "source": [
    "\"\"\" 随机梯度上升法 \"\"\"\n",
    "def stocGradAscent0(dataMatrix, classLabels):\n",
    "    \"\"\"\n",
    "    输入：1、dataMatIn——输入数据\n",
    "         2、classLabels——类别标签\n",
    "    输出：weights——回归系数\n",
    "    \"\"\"\n",
    "    m,n = shape(dataMatrix)\n",
    "    alpha = 0.01\n",
    "    weights = ones(n)   # 1行n列\n",
    "    for i in range(m):  # 迭代次数等同于样本集数量\n",
    "        h = sigmoid(sum(dataMatrix[i]*weights))  # 输入数据为array，此处为元素乘\n",
    "        error = classLabels[i] - h\n",
    "        weights = weights + alpha * error * dataMatrix[i]  # dataMatrix[i]为第i行数据，共n个数\n",
    "    return weights"
   ]
  },
  {
   "cell_type": "code",
   "execution_count": null,
   "metadata": {},
   "outputs": [],
   "source": []
  }
 ],
 "metadata": {
  "kernelspec": {
   "display_name": "Python 3",
   "language": "python",
   "name": "python3"
  },
  "language_info": {
   "codemirror_mode": {
    "name": "ipython",
    "version": 3
   },
   "file_extension": ".py",
   "mimetype": "text/x-python",
   "name": "python",
   "nbconvert_exporter": "python",
   "pygments_lexer": "ipython3",
   "version": "3.6.2"
  }
 },
 "nbformat": 4,
 "nbformat_minor": 2
}
