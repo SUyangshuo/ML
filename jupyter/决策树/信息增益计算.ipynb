{
 "cells": [
  {
   "cell_type": "markdown",
   "metadata": {},
   "source": [
    "### 信息增益计算"
   ]
  },
  {
   "cell_type": "code",
   "execution_count": 2,
   "metadata": {},
   "outputs": [],
   "source": [
    "from math import log\n",
    "from collections import Counter\n",
    "from functools import reduce"
   ]
  },
  {
   "cell_type": "markdown",
   "metadata": {},
   "source": [
    "### 属性和属性值"
   ]
  },
  {
   "cell_type": "code",
   "execution_count": 3,
   "metadata": {},
   "outputs": [],
   "source": [
    "outlook = {'sunny':[1,1,0,0,0],'overcast':[1,1,1,1],'rainy':[1,1,1,0,0]}\n",
    "humidity = {'high':[1,1,1,0,0,0,0],'normal':[1,1,1,1,1,1,0]}\n",
    "windy = {'windy_false':[1,1,1,1,1,1,0,0],'windy_true':[1,1,1,0,0,0]}\n",
    "temperature = {'hot':[1,1,0,0],'mild':[1,1,1,1,0,0],'cool':[1,1,1,0]}"
   ]
  },
  {
   "cell_type": "code",
   "execution_count": 4,
   "metadata": {},
   "outputs": [],
   "source": [
    "def calcShannonEnt(dataSet):\n",
    "    numEntries = len(dataSet)\n",
    "    counter = Counter(dataSet)\n",
    "    shannonEnt = 0.0\n",
    "    for key in counter.keys():\n",
    "        pro = float(counter[key])/numEntries\n",
    "        shannonEnt -= prob * log(prob, 2)\n",
    "    return shannonEnt"
   ]
  },
  {
   "cell_type": "code",
   "execution_count": 6,
   "metadata": {},
   "outputs": [],
   "source": [
    "def calcInfoGain(dataSet):\n",
    "    numEntries = sum(len(x) for x in dataSet.values())\n",
    "    # 基础熵\n",
    "    baseEntropy = calcShannonEnt(reduce(lambda x,y:x+y,dataSet.values()))#  匿名函数，对基础属性值的熵进行累加\n",
    "    newEntropy = 0.0\n",
    "    for value in dataSet.values():\n",
    "        pro = len(value)/float(numEntries)\n",
    "        nowEntropy += pro * calcShannonEnt(value)\n",
    "    infoGain = baseEntropy - newEntropy\n",
    "    # 返回信息增益\n",
    "    return infoGain"
   ]
  },
  {
   "cell_type": "code",
   "execution_count": null,
   "metadata": {},
   "outputs": [],
   "source": [
    "print('outlook 信息增益：',calcInfoGain(outlook))\n",
    "print('humidity 信息增益：',calcInfoGain(humidity))\n",
    "print('windy 信息增益：',calcInfoGain(windy))\n",
    "print('temperature 信息增益：',calcInfoGain(temperature))"
   ]
  },
  {
   "cell_type": "code",
   "execution_count": null,
   "metadata": {},
   "outputs": [],
   "source": []
  }
 ],
 "metadata": {
  "kernelspec": {
   "display_name": "Python 3",
   "language": "python",
   "name": "python3"
  },
  "language_info": {
   "codemirror_mode": {
    "name": "ipython",
    "version": 3
   },
   "file_extension": ".py",
   "mimetype": "text/x-python",
   "name": "python",
   "nbconvert_exporter": "python",
   "pygments_lexer": "ipython3",
   "version": "3.6.2"
  }
 },
 "nbformat": 4,
 "nbformat_minor": 2
}
