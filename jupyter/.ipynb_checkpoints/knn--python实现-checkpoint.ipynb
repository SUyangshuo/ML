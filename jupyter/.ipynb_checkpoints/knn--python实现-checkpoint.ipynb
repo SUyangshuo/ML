{
 "cells": [
  {
   "cell_type": "markdown",
   "metadata": {},
   "source": [
    "# KNN--python实现\n",
    "## KNN思想\n",
    "#### 如果一个样本在特征空间中与k个实例最为相似(即特征空间中最邻近)，那么这k个实例中大多数属于哪个类别，则该样本也属于这个类别，其中计算样本与其他实例的相似性一般使用距离衡量法，通常使用欧氏距离\n",
    "## KNN本质\n",
    "#### KNN训练过程没有算法参与，只有存储训练样本，是一种识记类算法\n",
    "## KNN特点\n",
    "### 优点:\n",
    "#### 1:原理简单，易解释\n",
    "### 缺点：\n",
    "#### 1：空间成本较大\n",
    "#### 2：时间成本较大\n",
    "#### 3：准确度不高"
   ]
  },
  {
   "cell_type": "code",
   "execution_count": 4,
   "metadata": {},
   "outputs": [],
   "source": [
    "import numpy as np\n",
    "import pandas as pd\n",
    "\n",
    "# 下载数据集\n",
    "data = pd.read_csv('https://archive.ics.uci.edu/ml/machine-learning-databases/iris/iris.data',header=None)\n",
    "\n",
    "# 特征及类别名称\n",
    "data.columns = ['sepal length', 'sepal width', 'petal length', 'petal width', 'species'] \n",
    "\n",
    "#三个类别的数据提取出来\n",
    "X = data.iloc[0:150,0:4].values\n",
    "y = data.iloc[0:150,4].values\n",
    "y[y == 'Iris-setosa'] = 0\n",
    "y[y == 'Iris-versicolor'] = 1                             \n",
    "y[y == 'Iris-virginica'] = 2 \n",
    "\n",
    "# 三种lable的数据集\n",
    "X_setosa,y_setosa = X[0:50],y[0:50]\n",
    "X_versicolor, y_versicolor = X[50:100], y[50:100]        \n",
    "X_virginica, y_virginica = X[100:150], y[100:150]  \n"
   ]
  },
  {
   "cell_type": "code",
   "execution_count": 6,
   "metadata": {},
   "outputs": [
    {
     "data": {
      "image/png": "[encoded data removed]",
      "text/plain": [
       "<Figure size 432x288 with 1 Axes>"
      ]
     },
     "metadata": {
      "needs_background": "light"
     },
     "output_type": "display_data"
    }
   ],
   "source": [
    "import matplotlib.pyplot as plt\n",
    "\n",
    "plt.scatter(X_setosa[:, 0], X_setosa[:, 2], color='red', marker='o', label='setosa')\n",
    "plt.scatter(X_versicolor[:, 0], X_versicolor[:, 2], color='blue', marker='^', label='versicolor')\n",
    "plt.scatter(X_virginica[:, 0], X_virginica[:, 2], color='green', marker='s', label='virginica')\n",
    "plt.xlabel('sepal length')\n",
    "plt.ylabel('petal length')\n",
    "# 显示图例\n",
    "plt.legend(loc = 'upper left')\n",
    "plt.show()"
   ]
  },
  {
   "cell_type": "markdown",
   "metadata": {},
   "source": [
    "# 划分训练集，测试集，验证集"
   ]
  },
  {
   "cell_type": "code",
   "execution_count": 7,
   "metadata": {},
   "outputs": [],
   "source": [
    "# training set\n",
    "X_setosa_train = X_setosa[:30,:]\n",
    "y_setosa_train = y_setosa[:30]\n",
    "X_versicolor_train = X_versicolor[:30, :]\n",
    "y_versicolor_train = y_versicolor[:30]\n",
    "X_virginica_train = X_virginica[:30, :]\n",
    "y_virginica_train = y_virginica[:30]\n",
    "# 数组按垂直方向叠加\n",
    "X_train = np.vstack([X_setosa_train, X_versicolor_train, X_virginica_train])\n",
    "# 数组按水平方向叠加\n",
    "y_train = np.hstack([y_setosa_train, y_versicolor_train, y_virginica_train])\n",
    "\n",
    "# validation set\n",
    "X_setosa_val = X_setosa[30:40, :]\n",
    "y_setosa_val = y_setosa[30:40]\n",
    "X_versicolor_val = X_versicolor[30:40, :]\n",
    "y_versicolor_val = y_versicolor[30:40]\n",
    "X_virginica_val = X_virginica[30:40, :]\n",
    "y_virginica_val = y_virginica[30:40]\n",
    "X_val = np.vstack([X_setosa_val, X_versicolor_val, X_virginica_val])\n",
    "y_val = np.hstack([y_setosa_val, y_versicolor_val, y_virginica_val])\n",
    "\n",
    "# test set\n",
    "X_setosa_test = X_setosa[40:50, :]\n",
    "y_setosa_test = y_setosa[40:50]\n",
    "X_versicolor_test = X_versicolor[40:50, :]\n",
    "y_versicolor_test = y_versicolor[40:50]\n",
    "X_virginica_test = X_virginica[40:50, :]\n",
    "y_virginica_test = y_virginica[40:50]\n",
    "X_test = np.vstack([X_setosa_test, X_versicolor_test, X_virginica_test])\n",
    "y_test = np.hstack([y_setosa_test, y_versicolor_test, y_virginica_test])"
   ]
  },
  {
   "cell_type": "markdown",
   "metadata": {},
   "source": [
    "# KNN训练函数和预测函数"
   ]
  },
  {
   "cell_type": "code",
   "execution_count": 33,
   "metadata": {},
   "outputs": [],
   "source": [
    "class KNearestNeighbor(object):\n",
    "    def __init__(self):\n",
    "        pass\n",
    "    # 训练函数\n",
    "    def train(self, X ,y):\n",
    "        self.X_train = X\n",
    "        self.y_train = y\n",
    "    # 预测函数\n",
    "    def predict(self,X,k=1):\n",
    "        #计算L2距离\n",
    "        num_test = X.shape[0] # 查看矩阵的维数\n",
    "        num_train = self.X_train.shape[0]\n",
    "        dists = np.zeros((num_test,num_train))\n",
    "        # because(X - X_train)*(X - X_train) = -2X*X_train + X*X + X_train*X_train, so\n",
    "        d1 = -2 * np.dot(X, self.X_train.T)    # shape (num_test, num_train)\n",
    "        d2 = np.sum(np.square(X), axis=1, keepdims=True)    # shape (num_test, 1)  按行相加，并且保持其二维特性\n",
    "        d3 = np.sum(np.square(self.X_train), axis=1)    # shape (1, num_train)\n",
    "        dist = np.sqrt(d1 + d2 + d3)\n",
    "        \n",
    "        # 根据K值，选择最可能属于的类别\n",
    "        y_pred = np.zeros(num_test)\n",
    "        for i in range(num_test):\n",
    "            dist_k_min = np.argsort(dist[i])[:k]    # 最近邻k个实例位置\n",
    "            y_kclose = self.y_train[dist_k_min]     # 最近邻k个实例对应的标签\n",
    "            y_pred[i] = np.argmax(np.bincount(y_kclose.tolist()))    # 找出k个标签中从属类别最多的作为预测类别\n",
    "            \n",
    "        return y_pred "
   ]
  },
  {
   "cell_type": "markdown",
   "metadata": {},
   "source": [
    "#### 选择合适的K值"
   ]
  },
  {
   "cell_type": "code",
   "execution_count": 34,
   "metadata": {},
   "outputs": [],
   "source": [
    "KNN = KNearestNeighbor() #创建一个实例对象"
   ]
  },
  {
   "cell_type": "markdown",
   "metadata": {},
   "source": [
    "### tips  \n",
    "### 1：计算距离通常使用L1距离和L2距离，L2距离会产生数据增强的效果\n",
    "###          2：k值的选择，k值选的太小会过拟合，选的太大会欠拟合，在代码中我们设置为k为可调的参数\n",
    "### 3:  k值的选取一般使用k-fold交叉验证 选择出最佳k值"
   ]
  },
  {
   "cell_type": "markdown",
   "metadata": {},
   "source": [
    "#### 在验证集上进行k-fold交叉验证。选择不同的K值，根据验证结果，选择最佳的K值"
   ]
  },
  {
   "cell_type": "code",
   "execution_count": 35,
   "metadata": {
    "scrolled": true
   },
   "outputs": [
    {
     "name": "stdout",
     "output_type": "stream",
     "text": [
      "k = 3, accuracy: 0.888889\n",
      "k = 5, accuracy: 0.877778\n",
      "k = 7, accuracy: 0.888889\n",
      "k = 9, accuracy: 0.888889\n",
      "k = 11, accuracy: 0.866667\n",
      "k = 13, accuracy: 0.855556\n",
      "k = 15, accuracy: 0.877778\n",
      "Best K is: 3\n",
      "\n"
     ]
    }
   ],
   "source": [
    "num_folds = 5    # 训练数据分为5 folds\n",
    "K_classes = [3, 5, 7, 9, 11, 13, 15]    # 所有K值\n",
    "\n",
    "\n",
    "# 把训练数据分成5份\n",
    "X_train_folds = []\n",
    "y_train_folds = []\n",
    "X_train_folds = np.split(X_train, num_folds)\n",
    "y_train_folds = np.split(y_train, num_folds)\n",
    "\n",
    "# 字典用来存储不同K值对应的准确率\n",
    "K_accuracy = []\n",
    "k_best = K_classes[0]\n",
    "\n",
    "for k in K_classes:\n",
    "    accuracies = []\n",
    "    for i in range(num_folds):\n",
    "        Xtr = np.concatenate(X_train_folds[:i] + X_train_folds[i+1:])\n",
    "        ytr = np.concatenate(y_train_folds[:i] + y_train_folds[i+1:])\n",
    "        Xcv = X_train_folds[i]\n",
    "        ycv = y_train_folds[i]\n",
    "        KNN.train(Xtr, ytr)\n",
    "        ycv_pred = KNN.predict(Xcv, k=k)\n",
    "        accuracy = np.mean(ycv_pred == ycv)\n",
    "        accuracies.append(accuracy)\n",
    "    accuracies_avg = np.mean(accuracies)\n",
    "    K_accuracy.append(accuracies_avg)\n",
    "    if accuracies_avg > k_best:\n",
    "        k_best = accuracies_avg\n",
    "\n",
    "# 打印出验证结果\n",
    "for k in range(len(K_classes)):\n",
    "    print('k = %d, accuracy: %f' % (K_classes[k], K_accuracy[k]))\n",
    "print('Best K is: %d\\n' % k_best)"
   ]
  },
  {
   "cell_type": "code",
   "execution_count": 36,
   "metadata": {},
   "outputs": [
    {
     "data": {
      "image/png": "[encoded data removed]",
      "text/plain": [
       "<Figure size 432x288 with 1 Axes>"
      ]
     },
     "metadata": {
      "needs_background": "light"
     },
     "output_type": "display_data"
    }
   ],
   "source": [
    "# Plot the cross validation\n",
    "plt.plot(K_classes, K_accuracy, 'ro-')\n",
    "plt.title('Cross-validation on k')\n",
    "plt.xlabel('K')\n",
    "plt.ylabel('Cross-validation accuracy')\n",
    "plt.show()"
   ]
  },
  {
   "cell_type": "code",
   "execution_count": 37,
   "metadata": {},
   "outputs": [
    {
     "name": "stdout",
     "output_type": "stream",
     "text": [
      "测试集预测准确率：1.000000\n"
     ]
    }
   ],
   "source": [
    "KNN.train(X_train, y_train)\n",
    "y_pred = KNN.predict(X_test, k=6)\n",
    "accuracy = np.mean(y_pred == y_test)\n",
    "print('测试集预测准确率：%f' % accuracy)"
   ]
  },
  {
   "cell_type": "code",
   "execution_count": 38,
   "metadata": {
    "scrolled": true
   },
   "outputs": [
    {
     "data": {
      "image/png": "[encoded data removed]",
      "text/plain": [
       "<Figure size 432x288 with 1 Axes>"
      ]
     },
     "metadata": {
      "needs_background": "light"
     },
     "output_type": "display_data"
    }
   ],
   "source": [
    "# 训练集\n",
    "plt.scatter(X_setosa_train[:, 0], X_setosa_train[:, 2], color='red', marker='o', label='setosa_train')\n",
    "plt.scatter(X_versicolor_train[:, 0], X_versicolor_train[:, 2], color='blue', marker='^', label='versicolor_train')\n",
    "plt.scatter(X_virginica_train[:, 0], X_virginica_train[:, 2], color='green', marker='s', label='virginica_train')\n",
    "# 测试集\n",
    "plt.scatter(X_setosa_test[:, 0], X_setosa_test[:, 2], color='y', marker='o', label='setosa_test')\n",
    "plt.scatter(X_versicolor_test[:, 0], X_versicolor_test[:, 2], color='y', marker='^', label='versicolor_test')\n",
    "plt.scatter(X_virginica_test[:, 0], X_virginica_test[:, 2], color='y', marker='s', label='virginica_test')\n",
    "\n",
    "plt.xlabel('sepal length')\n",
    "plt.ylabel('petal length')\n",
    "plt.legend(loc = 4)\n",
    "plt.show()"
   ]
  },
  {
   "cell_type": "markdown",
   "metadata": {},
   "source": [
    "# 注释：\n",
    "&ensp;  KNN是一种简单直观的分类方法。训练过程保留了全部的特征，把所有的信息都记下来，没有经过处理和提取\n",
    "### k-fold交叉验证 \n",
    ">&ensp;数据集A随机分为k个包，每次将其中一个包作为测试集，剩下k-1个包作为训练集进行训练。"
   ]
  }
 ],
 "metadata": {
  "kernelspec": {
   "display_name": "Python 3",
   "language": "python",
   "name": "python3"
  },
  "language_info": {
   "codemirror_mode": {
    "name": "ipython",
    "version": 3
   },
   "file_extension": ".py",
   "mimetype": "text/x-python",
   "name": "python",
   "nbconvert_exporter": "python",
   "pygments_lexer": "ipython3",
   "version": "3.6.2"
  }
 },
 "nbformat": 4,
 "nbformat_minor": 2
}
